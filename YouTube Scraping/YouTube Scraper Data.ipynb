{
 "cells": [
  {
   "cell_type": "code",
   "execution_count": 1,
   "id": "8ee03633-54ba-40b8-8112-6c6acc46716c",
   "metadata": {},
   "outputs": [],
   "source": [
    "import time\n",
    "from selenium import webdriver\n",
    "from bs4 import BeautifulSoup\n",
    "import pandas as pd"
   ]
  },
  {
   "cell_type": "code",
   "execution_count": 5,
   "id": "09ded1e6-b917-49b5-be48-003833c51654",
   "metadata": {},
   "outputs": [],
   "source": [
    "browser = webdriver.Chrome()"
   ]
  },
  {
   "cell_type": "code",
   "execution_count": 71,
   "id": "4c4e880c-0df6-4236-9be3-719218e01f9e",
   "metadata": {},
   "outputs": [
    {
     "name": "stdout",
     "output_type": "stream",
     "text": [
      "\n",
      "Python Fundamentals and its Applications with GeeksforGeeks\n",
      "\n",
      "https://www.youtube.com/watch?v=qzyTwGpDYog\n"
     ]
    }
   ],
   "source": [
    "df = pd.read_csv('youtube.csv')\n",
    "\n",
    "for link in df['video_link']:\n",
    "    browser.get(link)\n",
    "\n",
    "    soup = BeautifulSoup(browser.page_source, 'html.parser')\n",
    "    time.sleep(60)\n",
    "\n",
    "    print(soup.find('h1', class_ = \"style-scope ytd-watch-metadata\").text)\n",
    "    print(link)\n",
    "    \n",
    "    break"
   ]
  },
  {
   "cell_type": "code",
   "execution_count": 72,
   "id": "3a93e324-3f6b-4b3a-bc59-8c757037371f",
   "metadata": {},
   "outputs": [
    {
     "name": "stdout",
     "output_type": "stream",
     "text": [
      "\n",
      "Python Fundamentals and its Applications with GeeksforGeeks\n",
      "\n",
      "2,417 views\n",
      "Sep 17, 2024\n",
      "88\n",
      "Master Python Libraries with GeeksforGeeks!\n",
      "\n",
      "Level up your Python skills with this comprehensive playlist on essential libraries. Learn how to leverage powerful tools like NumPy, Pandas, Matplotlib, and more to streamline your development workflow and tackle complex tasks. From data analysis to machine learning, these libraries are your toolkit for success.\n",
      "\n",
      "PYTHON FULL COURSE WITH CERTIFICATION FREE  \n"
     ]
    }
   ],
   "source": [
    "soup = BeautifulSoup(browser.page_source, 'html.parser')\n",
    "\n",
    "print(soup.find('h1', class_ = 'style-scope ytd-watch-metadata').text)\n",
    "# \n",
    "print(soup.find_all('span', class_ = \"style-scope yt-formatted-string bold\")[0].text)\n",
    "# datetime = \n",
    "print(soup.find_all('span', class_ = 'style-scope yt-formatted-string bold')[2].text)\n",
    "\n",
    "# print(soup.find_all('a', class_ = \"yt-simple-endpoint bold style-scope yt-formatted-string\")[0])\n",
    "print(soup.find_all('like-button-view-model', class_ = 'YtLikeButtonViewModelHost')[0].text)\n",
    "\n",
    "print(soup.find_all('span', class_ = 'yt-core-attributed-string--link-inherit-color')[0].text)"
   ]
  },
  {
   "cell_type": "code",
   "execution_count": null,
   "id": "86941c79",
   "metadata": {},
   "outputs": [],
   "source": [
    "soup"
   ]
  },
  {
   "cell_type": "markdown",
   "id": "0c59b05e",
   "metadata": {},
   "source": [
    "### title"
   ]
  },
  {
   "cell_type": "code",
   "execution_count": 16,
   "id": "7e716a33",
   "metadata": {},
   "outputs": [
    {
     "ename": "IndexError",
     "evalue": "list index out of range",
     "output_type": "error",
     "traceback": [
      "\u001b[1;31m---------------------------------------------------------------------------\u001b[0m",
      "\u001b[1;31mIndexError\u001b[0m                                Traceback (most recent call last)",
      "Cell \u001b[1;32mIn[16], line 1\u001b[0m\n\u001b[1;32m----> 1\u001b[0m title \u001b[38;5;241m=\u001b[39m soup\u001b[38;5;241m.\u001b[39mfind_all(\u001b[38;5;124m'\u001b[39m\u001b[38;5;124myt-formatted-string\u001b[39m\u001b[38;5;124m'\u001b[39m, class_ \u001b[38;5;241m=\u001b[39m \u001b[38;5;124m'\u001b[39m\u001b[38;5;124mstyle-scope ytd-video-primary-info-renderer\u001b[39m\u001b[38;5;124m'\u001b[39m)[\u001b[38;5;241m0\u001b[39m]\u001b[38;5;241m.\u001b[39mtext\n\u001b[0;32m      2\u001b[0m title\n",
      "\u001b[1;31mIndexError\u001b[0m: list index out of range"
     ]
    }
   ],
   "source": [
    "title = soup.find_all('yt-formatted-string', class_ = 'style-scope ytd-video-primary-info-renderer')[0].text\n",
    "title"
   ]
  },
  {
   "cell_type": "markdown",
   "id": "3eb7ceea",
   "metadata": {},
   "source": [
    "## views"
   ]
  },
  {
   "cell_type": "code",
   "execution_count": 89,
   "id": "9a31f4d5",
   "metadata": {},
   "outputs": [],
   "source": [
    "#views\n",
    "views = soup.find_all('span', class_ = 'style-scope yt-formatted-string bold')[0].text\n",
    "#Date time\n",
    "date_time = soup.find_all('span', class_ = 'style-scope yt-formatted-string bold')[2].text"
   ]
  },
  {
   "cell_type": "markdown",
   "id": "75a00be9",
   "metadata": {},
   "source": [
    "### tags"
   ]
  },
  {
   "cell_type": "code",
   "execution_count": 88,
   "id": "6eb7a8f1",
   "metadata": {},
   "outputs": [
    {
     "data": {
      "text/plain": [
       "[<span class=\"style-scope yt-formatted-string bold\" dir=\"auto\" style-target=\"bold\">1,828 views</span>,\n",
       " <span class=\"style-scope yt-formatted-string bold\" dir=\"auto\" style-target=\"bold\"> </span>,\n",
       " <span class=\"style-scope yt-formatted-string bold\" dir=\"auto\" style-target=\"bold\">Sep 17, 2024</span>,\n",
       " <span class=\"style-scope yt-formatted-string bold\" dir=\"auto\" style-target=\"bold\"> </span>,\n",
       " <span class=\"style-scope yt-formatted-string bold\" dir=\"auto\" style-target=\"bold\"> </span>,\n",
       " <span class=\"style-scope yt-formatted-string bold\" dir=\"auto\" style-target=\"bold\"> </span>]"
      ]
     },
     "execution_count": 88,
     "metadata": {},
     "output_type": "execute_result"
    }
   ],
   "source": [
    "# tags = soup.find_all('a').text\n",
    "soup.find_all('span', class_ = 'style-scope yt-formatted-string bold')\n",
    "# soup.find_all('a', class_ = 'yt-simple-endpoint style-scope yt-formatted-string bold')[0].text\n",
    "# soup.find_all('a', class_ = 'yt-simple-endpoint style-scope yt-formatted-string bold')[1].text\n",
    "# soup.find_all('a', class_ = 'yt-simple-endpoint style-scope yt-formatted-string bold')[2].text"
   ]
  },
  {
   "cell_type": "markdown",
   "id": "0641e5cf",
   "metadata": {},
   "source": [
    "### likes"
   ]
  },
  {
   "cell_type": "code",
   "execution_count": 112,
   "id": "b233a715-7b7a-47f4-a710-e97ed407ffa3",
   "metadata": {},
   "outputs": [
    {
     "data": {
      "text/plain": [
       "'67'"
      ]
     },
     "execution_count": 112,
     "metadata": {},
     "output_type": "execute_result"
    }
   ],
   "source": [
    "soup.find_all('like-button-view-model', class_ = 'YtLikeButtonViewModelHost')[0].text"
   ]
  },
  {
   "cell_type": "markdown",
   "id": "22d0b712",
   "metadata": {},
   "source": [
    "### image link"
   ]
  },
  {
   "cell_type": "code",
   "execution_count": 25,
   "id": "7d93cbe4",
   "metadata": {},
   "outputs": [
    {
     "data": {
      "text/plain": [
       "'https://i.ytimg.com/vi/qzyTwGpDYog/hqdefault.jpg'"
      ]
     },
     "execution_count": 25,
     "metadata": {},
     "output_type": "execute_result"
    }
   ],
   "source": [
    "img_link = sp.find('img').get('src').split('?')[0]\n",
    "img_link"
   ]
  },
  {
   "cell_type": "markdown",
   "id": "8a7e908e",
   "metadata": {},
   "source": [
    "### details"
   ]
  },
  {
   "cell_type": "code",
   "execution_count": 90,
   "id": "a3a9c379",
   "metadata": {},
   "outputs": [
    {
     "data": {
      "text/plain": [
       "'Python Fundamentals and its Applications with GeeksforGeeks'"
      ]
     },
     "execution_count": 90,
     "metadata": {},
     "output_type": "execute_result"
    }
   ],
   "source": [
    "video_title = sp[0].find('h3').text\n",
    "video_title"
   ]
  },
  {
   "cell_type": "code",
   "execution_count": 7,
   "id": "389c2682",
   "metadata": {},
   "outputs": [
    {
     "data": {
      "text/plain": [
       "'1:23:56'"
      ]
     },
     "execution_count": 7,
     "metadata": {},
     "output_type": "execute_result"
    }
   ],
   "source": [
    "video_time_frame = sp.find_all('span')[2].text.replace('\\n', '').strip()\n",
    "video_time_frame"
   ]
  },
  {
   "cell_type": "code",
   "execution_count": 92,
   "id": "af5b12a7",
   "metadata": {},
   "outputs": [
    {
     "data": {
      "text/plain": [
       "'1.5K views'"
      ]
     },
     "execution_count": 92,
     "metadata": {},
     "output_type": "execute_result"
    }
   ],
   "source": [
    "views = sp[0].find('span', class_ = \"inline-metadata-item style-scope ytd-video-meta-block\").text\n",
    "views"
   ]
  },
  {
   "cell_type": "code",
   "execution_count": 93,
   "id": "71bd42d2",
   "metadata": {},
   "outputs": [
    {
     "data": {
      "text/plain": [
       "'6 days ago'"
      ]
     },
     "execution_count": 93,
     "metadata": {},
     "output_type": "execute_result"
    }
   ],
   "source": [
    "days = sp[0].find('div',class_ = \"style-scope ytd-video-meta-block\").find_all('span')[2].text\n",
    "days"
   ]
  }
 ],
 "metadata": {
  "kernelspec": {
   "display_name": "base",
   "language": "python",
   "name": "python3"
  },
  "language_info": {
   "codemirror_mode": {
    "name": "ipython",
    "version": 3
   },
   "file_extension": ".py",
   "mimetype": "text/x-python",
   "name": "python",
   "nbconvert_exporter": "python",
   "pygments_lexer": "ipython3",
   "version": "3.12.4"
  }
 },
 "nbformat": 4,
 "nbformat_minor": 5
}
