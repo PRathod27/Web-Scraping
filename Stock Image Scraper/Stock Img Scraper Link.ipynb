{
 "cells": [
  {
   "cell_type": "code",
   "execution_count": 1,
   "metadata": {},
   "outputs": [],
   "source": [
    "import requests\n",
    "from bs4 import BeautifulSoup\n",
    "from selenium import webdriver"
   ]
  },
  {
   "cell_type": "code",
   "execution_count": 2,
   "metadata": {},
   "outputs": [],
   "source": [
    "link = \"https://stock-pictures.netlify.app/\""
   ]
  },
  {
   "cell_type": "code",
   "execution_count": 3,
   "metadata": {},
   "outputs": [],
   "source": [
    "browser = webdriver.Chrome()\n",
    "browser.get(link)"
   ]
  },
  {
   "cell_type": "code",
   "execution_count": 13,
   "metadata": {},
   "outputs": [],
   "source": [
    "soup = BeautifulSoup(browser.page_source, \"html.parser\")"
   ]
  },
  {
   "cell_type": "code",
   "execution_count": 14,
   "metadata": {},
   "outputs": [
    {
     "name": "stdout",
     "output_type": "stream",
     "text": [
      "https://cdn.pixabay.com/photo/2022/04/07/11/45/bird-7117346__340.jpg\n"
     ]
    }
   ],
   "source": [
    "print(soup.find_all('img')[1].get('src'))"
   ]
  },
  {
   "cell_type": "code",
   "execution_count": 15,
   "metadata": {},
   "outputs": [
    {
     "data": {
      "text/plain": [
       "[<img alt=\"src\" class=\"source-img\" src=\"https://cdn.pixabay.com/photo/2022/03/06/05/30/clouds-7050884__480.jpg\"/>,\n",
       " <img alt=\"src\" class=\"source-img\" src=\"https://cdn.pixabay.com/photo/2022/04/07/11/45/bird-7117346__340.jpg\"/>,\n",
       " <img alt=\"src\" class=\"source-img\" src=\"https://cdn.pixabay.com/photo/2022/02/28/15/28/sea-7039471__340.jpg\"/>,\n",
       " <img alt=\"src\" class=\"source-img\" src=\"https://cdn.pixabay.com/photo/2022/04/04/02/52/cherry-blossoms-7110279__340.jpg\"/>,\n",
       " <img alt=\"src\" class=\"source-img\" src=\"https://cdn.pixabay.com/photo/2022/04/09/18/06/cape-marguerite-7121992__340.jpg\"/>,\n",
       " <img alt=\"src\" class=\"source-img\" src=\"https://cdn.pixabay.com/photo/2021/11/13/23/06/tree-6792528__340.jpg\"/>,\n",
       " <img alt=\"src\" class=\"source-img\" src=\"https://cdn.pixabay.com/photo/2022/04/07/02/56/cottontail-rabbit-7116707__340.jpg\"/>,\n",
       " <img alt=\"src\" class=\"source-img\" src=\"https://cdn.pixabay.com/photo/2022/03/19/21/11/crocus-7079550__340.jpg\"/>,\n",
       " <img alt=\"src\" class=\"source-img\" src=\"https://cdn.pixabay.com/photo/2022/04/09/17/30/coffee-7121939__340.jpg\"/>,\n",
       " <img alt=\"src\" class=\"source-img\" src=\"https://cdn.pixabay.com/photo/2022/03/25/19/24/waterfall-7091641__340.jpg\"/>,\n",
       " <img alt=\"src\" class=\"source-img\" src=\"https://cdn.pixabay.com/photo/2021/08/25/20/42/field-6574455__340.jpg\"/>,\n",
       " <img alt=\"src\" class=\"source-img\" src=\"https://cdn.pixabay.com/photo/2022/04/04/18/03/bird-7111988__340.jpg\"/>,\n",
       " <img alt=\"src\" class=\"source-img\" src=\"https://cdn.pixabay.com/photo/2022/04/04/07/58/seedlings-7110591__340.jpg\"/>,\n",
       " <img alt=\"src\" class=\"source-img\" src=\"https://cdn.pixabay.com/photo/2022/03/23/21/27/road-7087957__340.jpg\"/>,\n",
       " <img alt=\"src\" class=\"source-img\" src=\"https://cdn.pixabay.com/photo/2022/03/27/15/03/cityscape-7095358__340.jpg\"/>,\n",
       " <img alt=\"src\" class=\"source-img\" src=\"https://cdn.pixabay.com/photo/2022/03/25/17/54/sakura-7091532__340.jpg\"/>,\n",
       " <img alt=\"src\" class=\"source-img\" src=\"https://cdn.pixabay.com/photo/2022/04/01/19/03/background-7105471__480.jpg\"/>,\n",
       " <img alt=\"src\" class=\"source-img\" src=\"https://cdn.pixabay.com/photo/2022/01/31/12/46/bird-6983434__340.jpg\"/>,\n",
       " <img alt=\"src\" class=\"source-img\" src=\"https://cdn.pixabay.com/photo/2022/01/18/16/49/town-6947538__340.jpg\"/>,\n",
       " <img alt=\"src\" class=\"source-img\" src=\"https://cdn.pixabay.com/photo/2022/04/09/17/42/flower-7121955__340.jpg\"/>,\n",
       " <img alt=\"src\" class=\"source-img\" src=\"https://cdn.pixabay.com/photo/2021/08/30/21/29/port-6587129__340.jpg\"/>,\n",
       " <img alt=\"src\" class=\"source-img\" src=\"https://cdn.pixabay.com/photo/2022/03/16/02/03/sunflowers-7071449__340.jpg\"/>,\n",
       " <img alt=\"src\" class=\"source-img\" src=\"https://cdn.pixabay.com/photo/2022/03/28/18/41/coffee-7098126__340.jpg\"/>,\n",
       " <img alt=\"src\" class=\"source-img\" src=\"https://cdn.pixabay.com/photo/2022/02/12/06/21/roys-peak-7008528__340.jpg\"/>,\n",
       " <img alt=\"src\" class=\"source-img\" src=\"https://cdn.pixabay.com/photo/2021/11/21/21/14/mountain-6815304__340.jpg\"/>,\n",
       " <img alt=\"src\" class=\"source-img\" src=\"https://cdn.pixabay.com/photo/2021/08/22/15/48/nature-6565499__340.jpg\"/>,\n",
       " <img alt=\"src\" class=\"source-img\" src=\"https://cdn.pixabay.com/photo/2022/03/03/11/18/nature-7045125__340.jpg\"/>,\n",
       " <img alt=\"src\" class=\"source-img\" src=\"https://cdn.pixabay.com/photo/2022/03/16/21/01/gentoo-penguin-7073391__340.jpg\"/>,\n",
       " <img alt=\"src\" class=\"source-img\" src=\"https://cdn.pixabay.com/photo/2021/11/26/20/45/lantern-6826698__340.jpg\"/>,\n",
       " <img alt=\"src\" class=\"source-img\" src=\"https://cdn.pixabay.com/photo/2022/04/03/05/03/easter-7108066__340.jpg\"/>,\n",
       " <img alt=\"src\" class=\"source-img\" src=\"https://cdn.pixabay.com/photo/2018/01/14/23/12/nature-3082832__340.jpg\"/>,\n",
       " <img alt=\"src\" class=\"source-img\" src=\"https://cdn.pixabay.com/photo/2022/02/27/19/46/tourist-attraction-7037967__340.jpg\"/>,\n",
       " <img alt=\"src\" class=\"source-img\" src=\"https://cdn.pixabay.com/photo/2022/04/07/22/23/menhir-7118382__480.jpg\"/>,\n",
       " <img alt=\"src\" class=\"source-img\" src=\"https://cdn.pixabay.com/photo/2022/01/13/18/05/road-6935773__340.jpg\"/>,\n",
       " <img alt=\"src\" class=\"source-img\" src=\"https://cdn.pixabay.com/photo/2022/04/10/07/03/bird-7122753__340.jpg\"/>,\n",
       " <img alt=\"src\" class=\"source-img\" src=\"https://cdn.pixabay.com/photo/2021/11/25/19/50/tape-6824489__340.jpg\"/>,\n",
       " <img alt=\"src\" class=\"source-img\" src=\"https://cdn.pixabay.com/photo/2022/01/10/15/29/wind-mills-6928590__340.jpg\"/>,\n",
       " <img alt=\"src\" class=\"source-img\" src=\"https://cdn.pixabay.com/photo/2022/02/15/07/27/travel-7014427__340.jpg\"/>,\n",
       " <img alt=\"src\" class=\"source-img\" src=\"https://cdn.pixabay.com/photo/2022/04/11/04/33/easter-eggs-7124718__340.jpg\"/>,\n",
       " <img alt=\"src\" class=\"source-img\" src=\"https://cdn.pixabay.com/photo/2022/02/07/22/27/winter-7000429__340.jpg\"/>,\n",
       " <img alt=\"src\" class=\"source-img\" src=\"https://cdn.pixabay.com/photo/2022/04/11/09/40/glacier-7125386__340.jpg\"/>,\n",
       " <img alt=\"src\" class=\"source-img\" src=\"https://cdn.pixabay.com/photo/2021/11/01/21/31/forest-6761846__340.jpg\"/>,\n",
       " <img alt=\"src\" class=\"source-img\" src=\"https://cdn.pixabay.com/photo/2022/02/05/08/13/tulip-6994245__340.jpg\"/>,\n",
       " <img alt=\"src\" class=\"source-img\" src=\"https://cdn.pixabay.com/photo/2022/04/07/13/06/flowers-7117461__340.jpg\"/>,\n",
       " <img alt=\"src\" class=\"source-img\" src=\"https://cdn.pixabay.com/photo/2022/02/22/03/22/passiflora-7027917__340.jpg\"/>,\n",
       " <img alt=\"src\" class=\"source-img\" src=\"https://cdn.pixabay.com/photo/2021/11/02/21/57/prayer-6764197__340.jpg\"/>,\n",
       " <img alt=\"src\" class=\"source-img\" src=\"https://cdn.pixabay.com/photo/2022/04/09/10/13/galaxy-7121195__340.jpg\"/>,\n",
       " <img alt=\"src\" class=\"source-img\" src=\"https://cdn.pixabay.com/photo/2022/03/31/09/25/dragonfly-7102558__480.jpg\"/>]"
      ]
     },
     "execution_count": 15,
     "metadata": {},
     "output_type": "execute_result"
    }
   ],
   "source": [
    "soup.find_all('img')"
   ]
  },
  {
   "cell_type": "code",
   "execution_count": 16,
   "metadata": {},
   "outputs": [
    {
     "name": "stdout",
     "output_type": "stream",
     "text": [
      "https://cdn.pixabay.com/photo/2022/03/06/05/30/clouds-7050884__480.jpg\n"
     ]
    }
   ],
   "source": [
    "for sp in soup.findAll('div', class_ = \"container\"):\n",
    "    link = sp.find('img').get('src')\n",
    "    print(link)\n",
    "    break"
   ]
  },
  {
   "cell_type": "code",
   "execution_count": 17,
   "metadata": {},
   "outputs": [
    {
     "name": "stdout",
     "output_type": "stream",
     "text": [
      "<div class=\"container\"><div class=\"image-container\"><img alt=\"src\" class=\"source-img\" src=\"https://cdn.pixabay.com/photo/2022/03/06/05/30/clouds-7050884__480.jpg\"/></div><div class=\"tags\"><span class=\"tag-color\">Tags - Clouds, Sky, Atmosphere, Blue Sky</span></div><div class=\"likes-comments\"><span>196 Likes</span><span>55 Comments </span></div></div>\n"
     ]
    }
   ],
   "source": [
    "for sp in soup.findAll('div', class_ = \"container\"):\n",
    "    print(sp)\n",
    "    break"
   ]
  },
  {
   "cell_type": "code",
   "execution_count": 90,
   "metadata": {},
   "outputs": [
    {
     "name": "stdout",
     "output_type": "stream",
     "text": [
      "Clouds, Sky, Atmosphere, Blue Sky\n",
      "https://cdn.pixabay.com/photo/2022/03/06/05/30/clouds-7050884__480.jpg Clouds, Sky, Atmosphere, Blue Sky\n"
     ]
    }
   ],
   "source": [
    "for sp in soup.findAll('div', class_ = \"container\"):\n",
    "    tags = sp.find('span', class_ = 'tag-color').text[7:].strip()   \n",
    "    print(tags)\n",
    "    print(link,''.join(tags))\n",
    "    break"
   ]
  }
 ],
 "metadata": {
  "kernelspec": {
   "display_name": "base",
   "language": "python",
   "name": "python3"
  },
  "language_info": {
   "codemirror_mode": {
    "name": "ipython",
    "version": 3
   },
   "file_extension": ".py",
   "mimetype": "text/x-python",
   "name": "python",
   "nbconvert_exporter": "python",
   "pygments_lexer": "ipython3",
   "version": "3.12.4"
  }
 },
 "nbformat": 4,
 "nbformat_minor": 2
}
